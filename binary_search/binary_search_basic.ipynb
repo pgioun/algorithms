{
 "cells": [
  {
   "cell_type": "code",
   "execution_count": null,
   "metadata": {},
   "outputs": [],
   "source": [
    "from math import log2 as log2\n",
    "\n",
    "def binary_search(lst, target):\n",
    "    \"\"\"\n",
    "    Perform binary search on a sorted list.\n",
    "    \n",
    "    Parameters:\n",
    "        lst (list): The sorted list to search in.\n",
    "        target (int): The target value to find.\n",
    "    \n",
    "    Returns:\n",
    "        int or None: The index of the target value in the list, or None if not found.\n",
    "    \"\"\"\n",
    "    low = 0\n",
    "    high = len(lst) - 1\n",
    "\n",
    "    while low <= high:\n",
    "        mid = (low + high) // 2  # Calculate the midpoint using integer division\n",
    "        guess = lst[mid]\n",
    "\n",
    "        if guess == target:\n",
    "            return mid\n",
    "        if guess > target:\n",
    "            high = mid - 1\n",
    "        else:\n",
    "            low = mid + 1\n",
    "    return None\n",
    "\n",
    "# Main code block\n",
    "if __name__ == \"__main__\":\n",
    "    my_list = [1, 2, 3, 15, 17, 19, 39, 41]\n",
    "    result = binary_search(my_list, 3)\n",
    "    if result is not None:\n",
    "        print(f\"Element found at index {result}\")\n",
    "    else:\n",
    "        print(\"Element not found\")\n",
    "\n",
    "\n",
    "    list_size = len(my_list)\n",
    "    \n",
    "    steps = log2(list_size)\n",
    "    print(f\"Log2 of list size ({list_size}) is: {steps:.2f}\")\n",
    " "
   ]
  }
 ],
 "metadata": {
  "kernelspec": {
   "display_name": "algorithms",
   "language": "python",
   "name": "python3"
  },
  "language_info": {
   "codemirror_mode": {
    "name": "ipython",
    "version": 3
   },
   "file_extension": ".py",
   "mimetype": "text/x-python",
   "name": "python",
   "nbconvert_exporter": "python",
   "pygments_lexer": "ipython3",
   "version": "3.11.4"
  },
  "orig_nbformat": 4
 },
 "nbformat": 4,
 "nbformat_minor": 2
}
