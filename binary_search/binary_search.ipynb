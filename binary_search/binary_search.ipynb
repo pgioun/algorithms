def binary_search(lst, target):
    """
    Perform binary search on a sorted list.
    
    Parameters:
        lst (list): The sorted list to search in.
        target (int): The target value to find.
    
    Returns:
        int or None: The index of the target value in the list, or None if not found.
    """
    low = 0
    high = len(lst) - 1

    while low <= high:
        mid = (low + high) // 2  # Calculate the midpoint using integer division
        guess = lst[mid]

        if guess == target:
            return mid
        if guess > target:
            high = mid - 1
        else:
            low = mid + 1
    return None

# Main code block
if __name__ == "__main__":
    my_list = [1, 3, 5, 7, 9]
    target_value = 3
    
    # Call the binary_search function and store the result
    result = binary_search(my_list, target_value)
    
    # Check if the result is not None (i.e., target value found)
    if result is not None:
        print(f"Element found at index {result}")
    else:
        print("Element not found")