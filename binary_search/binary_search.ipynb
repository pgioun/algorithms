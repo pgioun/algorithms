{
 "cells": [
  {
   "cell_type": "code",
   "execution_count": 1,
   "metadata": {},
   "outputs": [
    {
     "name": "stdout",
     "output_type": "stream",
     "text": [
      "Element found at index 1\n"
     ]
    }
   ],
   "source": [
    "def binary_search(lst, target):\n",
    "    \"\"\"\n",
    "    Perform binary search on a sorted list.\n",
    "    \n",
    "    Parameters:\n",
    "        lst (list): The sorted list to search in.\n",
    "        target (int): The target value to find.\n",
    "    \n",
    "    Returns:\n",
    "        int or None: The index of the target value in the list, or None if not found.\n",
    "    \"\"\"\n",
    "    low = 0\n",
    "    high = len(lst) - 1\n",
    "\n",
    "    while low <= high:\n",
    "        mid = (low + high) // 2  # Calculate the midpoint using integer division\n",
    "        guess = lst[mid]\n",
    "\n",
    "        if guess == target:\n",
    "            return mid\n",
    "        if guess > target:\n",
    "            high = mid - 1\n",
    "        else:\n",
    "            low = mid + 1\n",
    "    return None\n",
    "\n",
    "# Main code block\n",
    "if __name__ == \"__main__\":\n",
    "    my_list = [1, 3, 5, 7, 9]\n",
    "    target_value = 3\n",
    "    \n",
    "    # Call the binary_search function and store the result\n",
    "    result = binary_search(my_list, target_value)\n",
    "    \n",
    "    # Check if the result is not None (i.e., target value found)\n",
    "    if result is not None:\n",
    "        print(f\"Element found at index {result}\")\n",
    "    else:\n",
    "        print(\"Element not found\")"
   ]
  }
 ],
 "metadata": {
  "kernelspec": {
   "display_name": "algorithms",
   "language": "python",
   "name": "python3"
  },
  "language_info": {
   "codemirror_mode": {
    "name": "ipython",
    "version": 3
   },
   "file_extension": ".py",
   "mimetype": "text/x-python",
   "name": "python",
   "nbconvert_exporter": "python",
   "pygments_lexer": "ipython3",
   "version": "3.11.4"
  },
  "orig_nbformat": 4
 },
 "nbformat": 4,
 "nbformat_minor": 2
}
